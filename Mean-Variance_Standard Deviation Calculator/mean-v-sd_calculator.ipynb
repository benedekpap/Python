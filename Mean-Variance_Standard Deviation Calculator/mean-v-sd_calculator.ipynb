{
 "cells": [
  {
   "cell_type": "markdown",
   "id": "52118657",
   "metadata": {},
   "source": [
    "# Mean-Variance-Standard Deviation Calculator"
   ]
  },
  {
   "cell_type": "code",
   "execution_count": 2,
   "id": "6ef27737",
   "metadata": {},
   "outputs": [],
   "source": [
    "import numpy as np\n",
    "\n",
    "def calculate(list):\n",
    "    if len(list) != 9:\n",
    "        raise ValueError(\"List must contain nine numbers.\")\n",
    "    arr = np.array(list).reshape((3,3))\n",
    "    calculations = {\n",
    "        'mean': [arr.mean(axis=0).tolist(), arr.mean(axis=1).tolist(), arr.mean()],\n",
    "        'variance': [arr.var(axis=0).tolist(), arr.var(axis=1).tolist(), arr.var()],\n",
    "        'standard deviation': [arr.std(axis=0).tolist(), arr.std(axis=1).tolist(), arr.std()],\n",
    "        'max': [arr.max(axis=0).tolist(), arr.max(axis=1).tolist(), arr.max()],\n",
    "        'min': [arr.min(axis=0).tolist(), arr.min(axis=1).tolist(), arr.min()],\n",
    "        'sum': [arr.sum(axis=0).tolist(), arr.sum(axis=1).tolist(), arr.sum()]\n",
    "    }\n",
    "    return calculations\n"
   ]
  },
  {
   "cell_type": "code",
   "execution_count": 3,
   "id": "397aad61",
   "metadata": {},
   "outputs": [
    {
     "data": {
      "text/plain": [
       "{'mean': [[3.0, 4.0, 5.0], [1.0, 4.0, 7.0], 4.0],\n",
       " 'variance': [[6.0, 6.0, 6.0],\n",
       "  [0.6666666666666666, 0.6666666666666666, 0.6666666666666666],\n",
       "  6.666666666666667],\n",
       " 'standard deviation': [[2.449489742783178,\n",
       "   2.449489742783178,\n",
       "   2.449489742783178],\n",
       "  [0.816496580927726, 0.816496580927726, 0.816496580927726],\n",
       "  2.581988897471611],\n",
       " 'max': [[6, 7, 8], [2, 5, 8], 8],\n",
       " 'min': [[0, 1, 2], [0, 3, 6], 0],\n",
       " 'sum': [[9, 12, 15], [3, 12, 21], 36]}"
      ]
     },
     "execution_count": 3,
     "metadata": {},
     "output_type": "execute_result"
    }
   ],
   "source": [
    "calculate(range(9))"
   ]
  },
  {
   "cell_type": "code",
   "execution_count": 4,
   "id": "8e8b9e1b",
   "metadata": {},
   "outputs": [
    {
     "data": {
      "text/plain": [
       "{'mean': [[5.666666666666667, 4.333333333333333, 4.333333333333333],\n",
       "  [4.666666666666667, 5.333333333333333, 4.333333333333333],\n",
       "  4.777777777777778],\n",
       " 'variance': [[8.222222222222223, 6.222222222222221, 9.555555555555555],\n",
       "  [4.222222222222222, 10.888888888888888, 9.555555555555555],\n",
       "  8.395061728395062],\n",
       " 'standard deviation': [[2.8674417556808756,\n",
       "   2.494438257849294,\n",
       "   3.0912061651652345],\n",
       "  [2.0548046676563256, 3.2998316455372216, 3.0912061651652345],\n",
       "  2.8974232912011773],\n",
       " 'max': [[9, 7, 7], [7, 9, 7], 9],\n",
       " 'min': [[2, 1, 0], [2, 1, 0], 0],\n",
       " 'sum': [[17, 13, 13], [14, 16, 13], 43]}"
      ]
     },
     "execution_count": 4,
     "metadata": {},
     "output_type": "execute_result"
    }
   ],
   "source": [
    "calculate([2,5,7,9,1,6,6,7,0])"
   ]
  },
  {
   "cell_type": "code",
   "execution_count": null,
   "id": "20d71531",
   "metadata": {},
   "outputs": [],
   "source": []
  }
 ],
 "metadata": {
  "kernelspec": {
   "display_name": "Python 3 (ipykernel)",
   "language": "python",
   "name": "python3"
  },
  "language_info": {
   "codemirror_mode": {
    "name": "ipython",
    "version": 3
   },
   "file_extension": ".py",
   "mimetype": "text/x-python",
   "name": "python",
   "nbconvert_exporter": "python",
   "pygments_lexer": "ipython3",
   "version": "3.9.13"
  }
 },
 "nbformat": 4,
 "nbformat_minor": 5
}
